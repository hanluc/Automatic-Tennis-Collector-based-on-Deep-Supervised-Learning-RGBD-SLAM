{
 "cells": [
  {
   "cell_type": "code",
   "execution_count": 5,
   "metadata": {},
   "outputs": [
    {
     "name": "stdout",
     "output_type": "stream",
     "text": [
      "The autoreload extension is already loaded. To reload it, use:\n",
      "  %reload_ext autoreload\n"
     ]
    }
   ],
   "source": [
    "import os\n",
    "os.environ['CUDA_VISIBLE_DEVICES'] = '0'  #'3,2' #'3,2,1,0'\n",
    "\n",
    "from common import *\n",
    "from utility.file   import *\n",
    "from dataset.reader import *\n",
    "from net.rate   import *\n",
    "from net.metric import *\n",
    "from train_u_net import *\n",
    "\n",
    "import matplotlib.pyplot as plt\n",
    "import os\n",
    "%matplotlib inline\n",
    "\n",
    "%load_ext autoreload\n",
    "%autoreload 2"
   ]
  },
  {
   "cell_type": "code",
   "execution_count": 6,
   "metadata": {
    "scrolled": false
   },
   "outputs": [
    {
     "name": "stdout",
     "output_type": "stream",
     "text": [
      "/home/htang6/workspace/tennis_det/filenames/tennis_train.csv\n",
      "/home/htang6/workspace/tennis_det/filenames/tennis_val.csv\n"
     ]
    }
   ],
   "source": [
    "set_name = os.path.join(ROOT_DIR, 'filenames/%s_train.csv' % (split))\n",
    "\n",
    "cfg = Configuration()\n",
    "net = Net(cfg).cuda()\n",
    "optimizer = optim.SGD(net.parameters(), lr=0.01)\n",
    "\n",
    "batch_size = 8\n",
    "train_dataset = ScienceDataset(DATA_DIR, set_name, transform=train_augment, mode='train')\n",
    "train_loader  = DataLoader(\n",
    "                    train_dataset,\n",
    "                    sampler = RandomSampler(train_dataset),\n",
    "                    #sampler = ConstantSampler(train_dataset,list(range(16))),\n",
    "                    batch_size  = batch_size,\n",
    "                    drop_last   = False,\n",
    "                    num_workers = 4,\n",
    "                    pin_memory  = True,\n",
    "                    collate_fn  = train_collate)\n",
    "\n",
    "set_name = os.path.join(ROOT_DIR, 'filenames/%s_val.csv' % (split))\n",
    "valid_dataset = ScienceDataset(DATA_DIR, set_name, transform=valid_augment, mode='train')\n",
    "valid_loader  = DataLoader(\n",
    "                    valid_dataset,\n",
    "                    sampler     = SequentialSampler(valid_dataset),\n",
    "                    batch_size  = batch_size,\n",
    "                    drop_last   = False,\n",
    "                    num_workers = 4,\n",
    "                    pin_memory  = True,\n",
    "                    collate_fn  = train_collate)\n",
    "\n",
    "\n",
    "    "
   ]
  },
  {
   "cell_type": "code",
   "execution_count": null,
   "metadata": {},
   "outputs": [
    {
     "name": "stderr",
     "output_type": "stream",
     "text": [
      "/home/htang6/anaconda3/lib/python3.6/site-packages/torch/nn/functional.py:1762: UserWarning: Default upsampling behavior when mode=bilinear is changed to align_corners=False since 0.4.0. Please specify align_corners=True if the old behavior is desired. See the documentation of nn.Upsample for details.\n",
      "  \"See the documentation of nn.Upsample for details.\".format(mode))\n"
     ]
    },
    {
     "name": "stdout",
     "output_type": "stream",
     "text": [
      "tensor(0.4172, device='cuda:0')\n",
      "tensor(0.4859, device='cuda:0')\n",
      "tensor(0.4199, device='cuda:0')\n",
      "tensor(0.4490, device='cuda:0')\n",
      "tensor(0.2916, device='cuda:0')\n"
     ]
    }
   ],
   "source": [
    "for epoch in range(10):\n",
    "    net.train()\n",
    "    for i,(inputs, truth_foregrounds, foreground_weights, truth_borders, images, truth_masks, indices) in enumerate(train_loader):\n",
    "    #     print(images[0].shape)\n",
    "    #     plt.imshow(images[0])\n",
    "    #     plt.show()\n",
    "    #     mask = truth_foregrounds[0].numpy()\n",
    "    #     plt.imshow(mask)\n",
    "    #     plt.colorbar()\n",
    "    #     plt.show()\n",
    "    #     print(mask)\n",
    "\n",
    "        inputs = Variable(inputs).cuda()\n",
    "        truth_foregrounds = Variable(truth_foregrounds).cuda()\n",
    "        net(inputs)\n",
    "        net.criterion(truth_foregrounds)\n",
    "        print(net.loss)\n",
    "        net.loss.backward()\n",
    "        optimizer.step()"
   ]
  },
  {
   "cell_type": "code",
   "execution_count": null,
   "metadata": {},
   "outputs": [],
   "source": [
    "id = 0\n",
    "plt.imshow(images[id])\n",
    "plt.show()\n",
    "mask = truth_foregrounds[id].cpu().numpy()\n",
    "plt.imshow(mask)\n",
    "plt.colorbar()\n",
    "plt.show()\n",
    "\n",
    "pred = F.sigmoid(net.foregrounds[id])\n",
    "pred = pred.cpu().detach().numpy()\n",
    "plt.imshow(pred[0])\n",
    "plt.colorbar()"
   ]
  },
  {
   "cell_type": "markdown",
   "metadata": {},
   "source": [
    "## Test"
   ]
  },
  {
   "cell_type": "code",
   "execution_count": null,
   "metadata": {},
   "outputs": [],
   "source": [
    "datadir = '/home/htang6/workspace/data/tennis/'\n",
    "img = img = cv2.imread(os.path.join(datadir, 'test', 'images (3).jpg'))\n",
    "plt.imshow(img)\n",
    "plt.show()\n",
    "\n",
    "input = torch.from_numpy(img.transpose((2,0,1))).float().div(255) - 0.5\n",
    "input = Variable(input.unsqueeze(0)).cuda()\n",
    "net.eval()\n",
    "net(input)\n",
    "pred = F.sigmoid(net.foregrounds[0])\n",
    "pred = pred.cpu().detach().numpy()\n",
    "plt.imshow(pred[0])\n",
    "plt.colorbar()"
   ]
  },
  {
   "cell_type": "code",
   "execution_count": null,
   "metadata": {},
   "outputs": [],
   "source": [
    "datadir = '/home/htang6/workspace/data/tennis/'\n",
    "id = '4.png'\n",
    "print(os.listdir(datadir))\n",
    "img = cv2.imread(os.path.join(datadir, 'image', id))\n",
    "mask = cv2.imread(os.path.join(datadir, 'mask', id))\n",
    "mask = cv2.cvtColor(mask, cv2.COLOR_BGR2GRAY)\n",
    "\n",
    "plt.imshow(img)\n",
    "plt.show()\n",
    "\n",
    "plt.imshow(mask)\n",
    "plt.show()\n",
    "\n",
    "print(img.mean(), img.max(), img.min())"
   ]
  },
  {
   "cell_type": "code",
   "execution_count": null,
   "metadata": {},
   "outputs": [],
   "source": [
    "mask.shape"
   ]
  },
  {
   "cell_type": "code",
   "execution_count": null,
   "metadata": {},
   "outputs": [],
   "source": []
  }
 ],
 "metadata": {
  "kernelspec": {
   "display_name": "Python 3",
   "language": "python",
   "name": "python3"
  },
  "language_info": {
   "codemirror_mode": {
    "name": "ipython",
    "version": 3
   },
   "file_extension": ".py",
   "mimetype": "text/x-python",
   "name": "python",
   "nbconvert_exporter": "python",
   "pygments_lexer": "ipython3",
   "version": "3.6.4"
  }
 },
 "nbformat": 4,
 "nbformat_minor": 2
}
